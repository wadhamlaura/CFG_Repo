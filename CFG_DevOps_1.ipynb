{
  "nbformat": 4,
  "nbformat_minor": 0,
  "metadata": {
    "colab": {
      "provenance": []
    },
    "kernelspec": {
      "name": "python3",
      "display_name": "Python 3"
    },
    "language_info": {
      "name": "python"
    }
  },
  "cells": [
    {
      "cell_type": "markdown",
      "source": [
        "# DevOps Notebook - Session 1\n",
        "\n",
        "This is a notebook solely for the purpose of demonstrating the DevOps approach to using GitHub."
      ],
      "metadata": {
        "id": "iVsJLDW0twQh"
      }
    },
    {
      "cell_type": "code",
      "execution_count": null,
      "metadata": {
        "id": "S0tSE37ftrXN"
      },
      "outputs": [],
      "source": [
        "# importing essential packages\n",
        "\n",
        "import pandas as pd\n",
        "import numpy as np\n",
        "import sklearn\n",
        "import matplotlib.pyplot as plt\n",
        "import seaborn as sns"
      ]
    },
    {
      "cell_type": "markdown",
      "source": [
        "# Regression Using the California Housing Dataset\n",
        "\n",
        "For demonstration purposes, Scikit-Learn has a dataset consisting of 20,000+ samples and 8 features, which represent various housing parameters for different districts in California. The target variable is the median house value. "
      ],
      "metadata": {
        "id": "FRLWWk96uPVa"
      }
    },
    {
      "cell_type": "code",
      "source": [
        "from sklearn.datasets import fetch_california_housing\n",
        "\n",
        "# Load the dataset\n",
        "california_housing = fetch_california_housing()\n",
        "\n",
        "# Print the feature names\n",
        "print(california_housing.feature_names)\n",
        "\n",
        "# Print the shape of the data\n",
        "print(california_housing.data.shape)\n",
        "\n",
        "# Print the target variable\n",
        "print(california_housing.target)"
      ],
      "metadata": {
        "id": "8C3o0-mRuH3i"
      },
      "execution_count": null,
      "outputs": []
    },
    {
      "cell_type": "code",
      "source": [
        "# Response \n",
        "\n",
        "from sklearn.datasets import fetch_california_housing\n",
        "from sklearn.linear_model import LinearRegression\n",
        "from sklearn.model_selection import train_test_split\n",
        "from sklearn.metrics import mean_squared_error\n",
        "\n",
        "# Load the dataset\n",
        "california_housing = fetch_california_housing()\n",
        "\n",
        "# See the top rows of data (by converting temporarily to a pandas dataframe)\n",
        "california_df =  pd.DataFrame(california_housing.data, columns = california_housing.feature_names)\n",
        "california_df.head()"
      ],
      "metadata": {
        "id": "P3XUzjuauStt"
      },
      "execution_count": null,
      "outputs": []
    },
    {
      "cell_type": "code",
      "source": [
        "# Split the data into training and testing sets - using the original Scikit-Learn data object.\n",
        "X_train, X_test, y_train, y_test = train_test_split(california_housing.data, california_housing.target, test_size=0.2, random_state=42)\n",
        "\n",
        "# Create and train a linear regression model\n",
        "reg = LinearRegression()\n",
        "reg.fit(X_train, y_train)\n",
        "\n",
        "# Make predictions on the test set\n",
        "y_pred = reg.predict(X_test)\n",
        "\n",
        "# Compute the mean squared error of the predictions\n",
        "mse = mean_squared_error(y_test, y_pred)\n",
        "print(\"Mean squared error:\", mse)"
      ],
      "metadata": {
        "id": "LToXCUZAuUuw"
      },
      "execution_count": null,
      "outputs": []
    }
  ]
}